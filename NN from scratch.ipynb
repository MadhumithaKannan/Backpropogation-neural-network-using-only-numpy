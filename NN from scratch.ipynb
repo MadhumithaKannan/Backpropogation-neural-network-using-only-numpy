{
 "cells": [
  {
   "cell_type": "code",
   "execution_count": 11,
   "metadata": {},
   "outputs": [],
   "source": [
    "import math\n",
    "import statistics\n",
    "import numpy as np\n",
    "import random\n",
    "import matplotlib.pyplot as plt\n",
    "%matplotlib inline"
   ]
  },
  {
   "cell_type": "code",
   "execution_count": 29,
   "metadata": {},
   "outputs": [],
   "source": [
    "def weight_init(n_input,n_hidden,n_output):\n",
    "    \"\"\" H: hidden layer weights\n",
    "        O: output layer wieghts\"\"\"\n",
    "    global H,O\n",
    "    np.random.seed(1)\n",
    "    H= 2*np.random.rand(n_input,n_hidden)-1\n",
    "    O= 2*np.random.rand(n_hidden,n_output)-1\n",
    "    #H=np.array([[0.15, 0.2],[0.25,0.3]])\n",
    "    #O=np.array([[0.4,0.45],[0.5,0.55]])\n",
    "    print(\"---initialising hidden and outout neurons---\")\n",
    "    print('hidden layer',H,'\\n','output layer',O)\n",
    "    print(\"-----------------------------\")\n",
    "    return O,H"
   ]
  },
  {
   "cell_type": "code",
   "execution_count": 13,
   "metadata": {},
   "outputs": [],
   "source": [
    "def sigmoid(x):\n",
    "    \"\"\"Sigmoid function\"\"\"\n",
    "    return 1/(1+np.exp(-x))"
   ]
  },
  {
   "cell_type": "code",
   "execution_count": 14,
   "metadata": {},
   "outputs": [],
   "source": [
    "def net(l1,l2,b):\n",
    "    \"\"\"Calculates net input\"\"\"\n",
    "    return(np.dot(l1,l2)+b)"
   ]
  },
  {
   "cell_type": "code",
   "execution_count": 15,
   "metadata": {},
   "outputs": [],
   "source": [
    "def error(target,output):\n",
    "    \"\"\"error function\"\"\"\n",
    "    return(np.sum(0.5*(target-output)**2))"
   ]
  },
  {
   "cell_type": "code",
   "execution_count": 16,
   "metadata": {},
   "outputs": [],
   "source": [
    "def sigmoid_derivative(x):\n",
    "    \"\"\"derivative of sigmoid function\"\"\"\n",
    "    return x*(1-x)"
   ]
  },
  {
   "cell_type": "code",
   "execution_count": 17,
   "metadata": {},
   "outputs": [],
   "source": [
    "def delta(x):\n",
    "    \"\"\"derivative of the error function\"\"\"\n",
    "    return(-(target_outputs-x))\n",
    "\n",
    "def finderror():\n",
    "    \"\"\"total error\"\"\"\n",
    "    E_total=error(target_outputs,out_o)\n",
    "    print('etotal',E_total)\n",
    "    return E_total"
   ]
  },
  {
   "cell_type": "code",
   "execution_count": 23,
   "metadata": {},
   "outputs": [],
   "source": [
    "def forwardpropogation(inputs,H,O):\n",
    "    #print(inputs.shape,H.shape)\n",
    "    net_h=net(inputs,H,b1) #net input to hidden layer\n",
    "    out_h=sigmoid(net_h) #net input is squashed using sigmoid function\n",
    "    net_o=net(out_h,O,b2) #net input to output layer\n",
    "    out_o=sigmoid(net_o) #net input squashed by sigmoid function\n",
    "    #print('out_h \\n',out_h)\n",
    "    #print('out_o \\n',out_o)\n",
    "    return out_h,out_o\n",
    "    "
   ]
  },
  {
   "cell_type": "code",
   "execution_count": 24,
   "metadata": {},
   "outputs": [],
   "source": [
    "def backpropogation(out_h,out_o,O,H):\n",
    "    \n",
    "    #----updating output layer weights----\n",
    "    adjust=delta(out_o)*sigmoid_derivative(out_o)*out_h\n",
    "    #print('adjustment output weights=',adjust)\n",
    "    x=O-L*adjust\n",
    "    O=x #update of output layer weights\n",
    "    #print('OUTPUT WEIGHTS:',O)\n",
    "    \n",
    "    \n",
    "    #----updating hidden layer wieghts----\n",
    "    \n",
    "    x=np.sum(((delta(out_h))*H))\n",
    "    adjust=np.multiply(x,sigmoid_derivative(out_h)*inputs.T)\n",
    "    #print('adjustment hidden weights=',adjust)\n",
    "    y=H-L*adjust\n",
    "    H=y #update of hidden layer weights\n",
    "    #print('HIDDEN WEIGHTS:',H)\n",
    "    return H,O\n"
   ]
  },
  {
   "cell_type": "code",
   "execution_count": 30,
   "metadata": {},
   "outputs": [
    {
     "name": "stdout",
     "output_type": "stream",
     "text": [
      "---initialising hidden and outout neurons---\n",
      "hidden layer [[-0.16595599  0.44064899]\n",
      " [-0.99977125 -0.39533485]] \n",
      " output layer [[-0.70648822 -0.81532281]\n",
      " [-0.62747958 -0.30887855]]\n",
      "-----------------------------\n",
      "0 ERROR 0.22573090797291626\n",
      "100 ERROR 0.020400763552099535\n",
      "200 ERROR 0.008131709644143996\n",
      "300 ERROR 0.00468173059543402\n",
      "400 ERROR 0.003183222751236027\n",
      "500 ERROR 0.002377146456444143\n",
      "600 ERROR 0.0018821244375229725\n",
      "700 ERROR 0.0015493635042935568\n",
      "800 ERROR 0.0013107555169611191\n",
      "900 ERROR 0.0011313483532861632\n"
     ]
    }
   ],
   "source": [
    "if __name__ == \"__main__\":\n",
    "    O,H=weight_init(2,2,2)\n",
    "    inputs=np.array([[0.05,0.10]])\n",
    "    target_outputs=[[0.01,0.99]]\n",
    "    b1,b2=0.35,0.60\n",
    "    L=0.5\n",
    "    history=[]\n",
    "\n",
    "\n",
    "    i=0\n",
    "    while(i<1000):\n",
    "        out_h,out_o=forwardpropogation(inputs,H,O)\n",
    "        errors=error(target_outputs,out_o)\n",
    "        if i%100==0:\n",
    "            print(i,'ERROR',errors)\n",
    "        history.append(errors)\n",
    "        H,O=backpropogation(out_h,out_o,O,H)\n",
    "        i=i+1\n"
   ]
  },
  {
   "cell_type": "code",
   "execution_count": 31,
   "metadata": {},
   "outputs": [
    {
     "data": {
      "text/plain": [
       "[<matplotlib.lines.Line2D at 0x27f98ce3390>]"
      ]
     },
     "execution_count": 31,
     "metadata": {},
     "output_type": "execute_result"
    },
    {
     "data": {
      "image/png": "[encoded data removed]",
      "text/plain": [
       "<matplotlib.figure.Figure at 0x27f98b8b198>"
      ]
     },
     "metadata": {},
     "output_type": "display_data"
    }
   ],
   "source": [
    "plt.plot(history[:10]) #upon 10 iterations"
   ]
  },
  {
   "cell_type": "code",
   "execution_count": 32,
   "metadata": {},
   "outputs": [
    {
     "data": {
      "text/plain": [
       "[<matplotlib.lines.Line2D at 0x27f98f849b0>]"
      ]
     },
     "execution_count": 32,
     "metadata": {},
     "output_type": "execute_result"
    },
    {
     "data": {
      "image/png": "[encoded data removed]",
      "text/plain": [
       "<matplotlib.figure.Figure at 0x27f98b8b400>"
      ]
     },
     "metadata": {},
     "output_type": "display_data"
    }
   ],
   "source": [
    "plt.plot(history[:100]) #upon 100 iterations"
   ]
  },
  {
   "cell_type": "code",
   "execution_count": 33,
   "metadata": {},
   "outputs": [
    {
     "data": {
      "text/plain": [
       "[<matplotlib.lines.Line2D at 0x27f98fe5358>]"
      ]
     },
     "execution_count": 33,
     "metadata": {},
     "output_type": "execute_result"
    },
    {
     "data": {
      "image/png": "[encoded data removed]",
      "text/plain": [
       "<matplotlib.figure.Figure at 0x27f98f93240>"
      ]
     },
     "metadata": {},
     "output_type": "display_data"
    }
   ],
   "source": [
    "plt.plot(history) #upon 10000 iterations"
   ]
  },
  {
   "cell_type": "code",
   "execution_count": null,
   "metadata": {},
   "outputs": [],
   "source": []
  }
 ],
 "metadata": {
  "kernelspec": {
   "display_name": "Python 3",
   "language": "python",
   "name": "python3"
  },
  "language_info": {
   "codemirror_mode": {
    "name": "ipython",
    "version": 3
   },
   "file_extension": ".py",
   "mimetype": "text/x-python",
   "name": "python",
   "nbconvert_exporter": "python",
   "pygments_lexer": "ipython3",
   "version": "3.6.4"
  }
 },
 "nbformat": 4,
 "nbformat_minor": 2
}
